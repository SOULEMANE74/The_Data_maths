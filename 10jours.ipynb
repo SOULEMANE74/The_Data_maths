{
 "cells": [
  {
   "cell_type": "markdown",
   "id": "2b37104a",
   "metadata": {},
   "source": [
    "## 10 jours pour faire les maths avec python !! "
   ]
  },
  {
   "cell_type": "markdown",
   "id": "255555ae",
   "metadata": {},
   "source": [
    "### Jours 1 : Rappel Express et outils "
   ]
  },
  {
   "cell_type": "markdown",
   "id": "4ba0c279",
   "metadata": {},
   "source": [
    "## Variables "
   ]
  },
  {
   "cell_type": "code",
   "execution_count": 13,
   "id": "30a90004",
   "metadata": {},
   "outputs": [
    {
     "name": "stdout",
     "output_type": "stream",
     "text": [
      "7.6\n"
     ]
    }
   ],
   "source": [
    "x = 6\n",
    "y = 1.6\n",
    "print(x+y)"
   ]
  },
  {
   "cell_type": "markdown",
   "id": "913acae7",
   "metadata": {},
   "source": [
    "## Fonctions  \n",
    "$$f(x)=x^2+x+1$$"
   ]
  },
  {
   "cell_type": "code",
   "execution_count": 14,
   "id": "aa47de51",
   "metadata": {},
   "outputs": [
    {
     "data": {
      "text/plain": [
       "111"
      ]
     },
     "execution_count": 14,
     "metadata": {},
     "output_type": "execute_result"
    }
   ],
   "source": [
    "def f(x):\n",
    "    return x**2+x+1\n",
    "\n",
    "f(10)"
   ]
  },
  {
   "cell_type": "markdown",
   "id": "80cc843f",
   "metadata": {},
   "source": [
    "## Maths  \n",
    "$$\\sqrt{\\pi}$$"
   ]
  },
  {
   "cell_type": "code",
   "execution_count": 15,
   "id": "f51595b8",
   "metadata": {},
   "outputs": [
    {
     "name": "stdout",
     "output_type": "stream",
     "text": [
      "1.4142135623730951\n",
      "3.141592653589793\n"
     ]
    }
   ],
   "source": [
    "import math\n",
    "print(math.sqrt(2))\n",
    "print(math.pi)"
   ]
  },
  {
   "cell_type": "markdown",
   "id": "1acc1c8f",
   "metadata": {},
   "source": [
    "## Jour 2 : Les suites numeriques "
   ]
  },
  {
   "cell_type": "markdown",
   "id": "af4c9aa1",
   "metadata": {},
   "source": [
    "## 1. Suites polynomiales simples\n",
    "La suite : $$U_n = n^2+n+1$$  \n",
    "Avec $n=0, 1, 2, \\cdots$"
   ]
  },
  {
   "cell_type": "code",
   "execution_count": 10,
   "id": "b4c14d63",
   "metadata": {},
   "outputs": [
    {
     "name": "stdout",
     "output_type": "stream",
     "text": [
      "[1, 3, 7, 13, 21, 31, 43, 57, 73, 91]\n"
     ]
    }
   ],
   "source": [
    "u = [n**2+n+1 for n in range(10)]\n",
    "print(u)"
   ]
  },
  {
   "cell_type": "code",
   "execution_count": 11,
   "id": "3e52e735",
   "metadata": {},
   "outputs": [
    {
     "data": {
      "text/plain": [
       "10"
      ]
     },
     "execution_count": 11,
     "metadata": {},
     "output_type": "execute_result"
    }
   ],
   "source": [
    "len(u)"
   ]
  },
  {
   "cell_type": "markdown",
   "id": "8193bc4a",
   "metadata": {},
   "source": [
    "## 2. Suites alternee\n",
    "La suite : $$V_n = (-1)^n$$  \n",
    "Cette suites alterne entre $-1$ et $1$"
   ]
  },
  {
   "cell_type": "code",
   "execution_count": 12,
   "id": "aeba6148",
   "metadata": {},
   "outputs": [
    {
     "name": "stdout",
     "output_type": "stream",
     "text": [
      "[1, -1, 1, -1, 1, -1, 1, -1, 1, -1]\n",
      "10\n"
     ]
    }
   ],
   "source": [
    "v = [(-1)**n for n in range(10)]\n",
    "print(v)\n",
    "print(len(v))"
   ]
  },
  {
   "cell_type": "markdown",
   "id": "5a418c67",
   "metadata": {},
   "source": [
    "## 3. Petit graphe rapide "
   ]
  },
  {
   "cell_type": "code",
   "execution_count": 14,
   "id": "c748444c",
   "metadata": {},
   "outputs": [
    {
     "data": {
      "image/png": "[encoded data removed]",
      "text/plain": [
       "<Figure size 640x480 with 1 Axes>"
      ]
     },
     "metadata": {},
     "output_type": "display_data"
    }
   ],
   "source": [
    "import matplotlib.pyplot as plt \n",
    "n = range(10)\n",
    "plt.plot(n, u, marker='o')\n",
    "plt.title('Suite u_n=n^2+n+1')\n",
    "plt.show()"
   ]
  },
  {
   "cell_type": "markdown",
   "id": "4f88f3e4",
   "metadata": {},
   "source": [
    "## Jour 3 : Approximation de la constante $e$"
   ]
  },
  {
   "cell_type": "markdown",
   "id": "878960ae",
   "metadata": {},
   "source": [
    "## 1. Definir la suite :  \n",
    "$$\\left(1+\\frac{1}{n}\\right)^n$$"
   ]
  },
  {
   "cell_type": "code",
   "execution_count": 23,
   "id": "753ff7d0",
   "metadata": {},
   "outputs": [
    {
     "name": "stdout",
     "output_type": "stream",
     "text": [
      "1\n",
      "2.0\n",
      "2\n",
      "2.25\n",
      "5\n",
      "2.4883199999999994\n",
      "10\n",
      "2.5937424601000023\n",
      "100\n",
      "2.7048138294215285\n",
      "1000\n",
      "2.7169239322355936\n"
     ]
    }
   ],
   "source": [
    "for n in [1,2,5,10,100,1000]:\n",
    "    print(n)\n",
    "    print((1+1/n)**n)"
   ]
  },
  {
   "cell_type": "code",
   "execution_count": 24,
   "id": "6b633bcd",
   "metadata": {},
   "outputs": [
    {
     "name": "stdout",
     "output_type": "stream",
     "text": [
      "2.718281828459045\n"
     ]
    }
   ],
   "source": [
    "import math\n",
    "print(math.e)"
   ]
  },
  {
   "cell_type": "markdown",
   "id": "1150fd89",
   "metadata": {},
   "source": [
    "## 2. Visulalisation graphique"
   ]
  },
  {
   "cell_type": "code",
   "execution_count": 25,
   "id": "92bd15cc",
   "metadata": {},
   "outputs": [
    {
     "data": {
      "image/png": "[encoded data removed]",
      "text/plain": [
       "<Figure size 640x480 with 1 Axes>"
      ]
     },
     "metadata": {},
     "output_type": "display_data"
    }
   ],
   "source": [
    "from matplotlib.lines import lineStyles\n",
    "import matplotlib.pyplot as plt\n",
    "n = range (1, 101)\n",
    "u = [(1+1/k)**k for k in n]\n",
    "\n",
    "# Representation graphique\n",
    "plt.plot(n, u, label='(1+1/k)^n')\n",
    "plt.axhline(y=math.e, color='r', linestyle='--',\n",
    "label='e')\n",
    "plt.legend()\n",
    "plt.title('Approximation de e')\n",
    "plt.show()"
   ]
  },
  {
   "cell_type": "markdown",
   "id": "842beb3a",
   "metadata": {},
   "source": [
    "## Jour 4 : Approximation de $\\pi$"
   ]
  },
  {
   "cell_type": "markdown",
   "id": "a0a53342",
   "metadata": {},
   "source": [
    "## 1. Formule de Leibniz  \n",
    "$$\\pi = 4 \\sum_{k=0}^{\\infty} \\frac{(-1)^k}{2k+1}$$"
   ]
  },
  {
   "cell_type": "code",
   "execution_count": 26,
   "id": "5feac68a",
   "metadata": {},
   "outputs": [
    {
     "name": "stdout",
     "output_type": "stream",
     "text": [
      "1 4.0\n",
      "10 3.0418396189294024\n",
      "100 3.131592903558553\n",
      "1000 3.1405926538397932\n",
      "10000 3.1414926535900434\n"
     ]
    }
   ],
   "source": [
    "# Code pour l'approximation de cette somme\n",
    "import math\n",
    "\n",
    "def leibniz(n):\n",
    "    return 4 * sum(((-1)**k) / (2*k + 1) for k in range(n))\n",
    "\n",
    "for N in [1, 10, 100, 1000, 10000]:\n",
    "    print(N, leibniz(N))"
   ]
  },
  {
   "cell_type": "code",
   "execution_count": 27,
   "id": "0618dae3",
   "metadata": {},
   "outputs": [
    {
     "name": "stdout",
     "output_type": "stream",
     "text": [
      "3.141592653589793\n"
     ]
    }
   ],
   "source": [
    "print(math.pi)"
   ]
  },
  {
   "cell_type": "markdown",
   "id": "7286ad08",
   "metadata": {},
   "source": [
    "## 2. Visualisation graphique de la somme"
   ]
  },
  {
   "cell_type": "code",
   "execution_count": 28,
   "id": "f8e52cb7",
   "metadata": {},
   "outputs": [
    {
     "data": {
      "image/png": "[encoded data removed]",
      "text/plain": [
       "<Figure size 640x480 with 1 Axes>"
      ]
     },
     "metadata": {},
     "output_type": "display_data"
    }
   ],
   "source": [
    "import matplotlib.pyplot as plt\n",
    "\n",
    "N = range(1, 500)\n",
    "approximations = [leibniz(n) for n in N]\n",
    "\n",
    "plt.plot(N, approximations, label=\"Approximation de π\")\n",
    "plt.axhline(y=math.pi, color='r', linestyle='--', label=\"π réel\")\n",
    "plt.legend()\n",
    "plt.title(\"Série de Leibniz pour π\")\n",
    "plt.show()\n"
   ]
  },
  {
   "cell_type": "code",
   "execution_count": 30,
   "id": "dbe543aa",
   "metadata": {},
   "outputs": [],
   "source": [
    "import sympy as sp"
   ]
  },
  {
   "cell_type": "markdown",
   "id": "48fb6d30",
   "metadata": {},
   "source": [
    "## Jour 5 : Un peu d'algebre "
   ]
  },
  {
   "cell_type": "markdown",
   "id": "7eb36132",
   "metadata": {},
   "source": [
    "## 1. Vecteur et produit scalair "
   ]
  },
  {
   "cell_type": "code",
   "execution_count": 1,
   "id": "24e9ff6b",
   "metadata": {},
   "outputs": [
    {
     "name": "stdout",
     "output_type": "stream",
     "text": [
      "u + v = Matrix([[5], [7], [9]])\n",
      "Produit scalaire = 32\n"
     ]
    }
   ],
   "source": [
    "import sympy as sp\n",
    "\n",
    "u = sp.Matrix([1, 2, 3])\n",
    "v = sp.Matrix([4, 5, 6])\n",
    "\n",
    "print(\"u + v =\", u + v)\n",
    "print(\"Produit scalaire =\", u.dot(v))\n"
   ]
  },
  {
   "cell_type": "markdown",
   "id": "eb70a4c0",
   "metadata": {},
   "source": [
    "## 2. Matrices et produits matriciel"
   ]
  },
  {
   "cell_type": "code",
   "execution_count": 3,
   "id": "1b40ef0a",
   "metadata": {},
   "outputs": [
    {
     "name": "stdout",
     "output_type": "stream",
     "text": [
      "A * B =\n",
      "⎡4   4⎤\n",
      "⎢     ⎥\n",
      "⎣10  8⎦\n"
     ]
    }
   ],
   "source": [
    "A = sp.Matrix([[1, 2], [3, 4]])\n",
    "B = sp.Matrix([[2, 0], [1, 2]])\n",
    "\n",
    "print(\"A * B =\")\n",
    "sp.pprint(A * B)\n",
    "#print(A*B) "
   ]
  },
  {
   "cell_type": "markdown",
   "id": "423160d7",
   "metadata": {},
   "source": [
    "## 3. Resolution d'un systeme linaire "
   ]
  },
  {
   "cell_type": "code",
   "execution_count": 4,
   "id": "d4d9d4c2",
   "metadata": {},
   "outputs": [
    {
     "name": "stdout",
     "output_type": "stream",
     "text": [
      "Solution :{x: 1, y: 1}\n"
     ]
    }
   ],
   "source": [
    "x, y = sp.symbols('x y')\n",
    "eqs = [2*x + y - 3, x - y]\n",
    "\n",
    "solution = sp.solve(eqs, (x, y))\n",
    "print(f\"Solution :{solution}\")"
   ]
  },
  {
   "cell_type": "markdown",
   "id": "1eb73c56",
   "metadata": {},
   "source": [
    "## Jour 6 : Algebre symbolique "
   ]
  },
  {
   "cell_type": "markdown",
   "id": "41637c33",
   "metadata": {},
   "source": [
    "🎯 Objectifs du jour  \n",
    "\n",
    "Découvrir la manipulation symbolique des expressions algébriques.  \n",
    "\n",
    "Résoudre des équations avec Sympy.  \n",
    "\n",
    "Simplifier, développer et factoriser des polynômes."
   ]
  },
  {
   "cell_type": "markdown",
   "id": "c5514ce3",
   "metadata": {},
   "source": [
    "## 1. Intro a sympy"
   ]
  },
  {
   "cell_type": "code",
   "execution_count": 5,
   "id": "8bf1888d",
   "metadata": {},
   "outputs": [],
   "source": [
    "import sympy as sp\n",
    "\n",
    "x, y = sp.symbols('x y')  # Définition des variables symboliques"
   ]
  },
  {
   "cell_type": "markdown",
   "id": "e4df018a",
   "metadata": {},
   "source": [
    "## 2. Manipulation algebrique"
   ]
  },
  {
   "cell_type": "markdown",
   "id": "22084871",
   "metadata": {},
   "source": [
    "**Developpement**"
   ]
  },
  {
   "cell_type": "code",
   "execution_count": 6,
   "id": "a967b331",
   "metadata": {},
   "outputs": [
    {
     "data": {
      "text/latex": [
       "$\\displaystyle x^{2} - x - 6$"
      ],
      "text/plain": [
       "x**2 - x - 6"
      ]
     },
     "execution_count": 6,
     "metadata": {},
     "output_type": "execute_result"
    }
   ],
   "source": [
    "expr = (x + 2) * (x - 3)\n",
    "sp.expand(expr)"
   ]
  },
  {
   "cell_type": "markdown",
   "id": "0032d727",
   "metadata": {},
   "source": [
    "**Factorisation**"
   ]
  },
  {
   "cell_type": "code",
   "execution_count": 7,
   "id": "eee94f6c",
   "metadata": {},
   "outputs": [
    {
     "data": {
      "text/latex": [
       "$\\displaystyle \\left(x - 3\\right) \\left(x + 3\\right)$"
      ],
      "text/plain": [
       "(x - 3)*(x + 3)"
      ]
     },
     "execution_count": 7,
     "metadata": {},
     "output_type": "execute_result"
    }
   ],
   "source": [
    "expr2 = x**2 - 9\n",
    "sp.factor(expr2)"
   ]
  },
  {
   "cell_type": "markdown",
   "id": "abc0f239",
   "metadata": {},
   "source": [
    "**simplification**"
   ]
  },
  {
   "cell_type": "code",
   "execution_count": 8,
   "id": "dac32d2d",
   "metadata": {},
   "outputs": [
    {
     "data": {
      "text/latex": [
       "$\\displaystyle x + 2$"
      ],
      "text/plain": [
       "x + 2"
      ]
     },
     "execution_count": 8,
     "metadata": {},
     "output_type": "execute_result"
    }
   ],
   "source": [
    "expr3 = (x**2 - 4)/(x - 2)\n",
    "sp.simplify(expr3)"
   ]
  },
  {
   "cell_type": "markdown",
   "id": "31091ca0",
   "metadata": {},
   "source": [
    "## 3. Resolution d'equation"
   ]
  },
  {
   "cell_type": "code",
   "execution_count": 9,
   "id": "56f1d062",
   "metadata": {},
   "outputs": [
    {
     "data": {
      "text/plain": [
       "[2, 3]"
      ]
     },
     "execution_count": 9,
     "metadata": {},
     "output_type": "execute_result"
    }
   ],
   "source": [
    "eq = sp.Eq(x**2 - 5*x + 6, 0)  # x² - 5x + 6 = 0\n",
    "sp.solve(eq, x)"
   ]
  },
  {
   "cell_type": "markdown",
   "id": "6c560bc2",
   "metadata": {},
   "source": [
    "## 4. Resolution de systeme d'equation"
   ]
  },
  {
   "cell_type": "code",
   "execution_count": 10,
   "id": "45261287",
   "metadata": {},
   "outputs": [
    {
     "data": {
      "text/plain": [
       "{x: 4, y: 2}"
      ]
     },
     "execution_count": 10,
     "metadata": {},
     "output_type": "execute_result"
    }
   ],
   "source": [
    "eq1 = sp.Eq(2*x + y, 10)\n",
    "eq2 = sp.Eq(x - y, 2)\n",
    "sp.solve((eq1, eq2), (x, y))"
   ]
  },
  {
   "cell_type": "markdown",
   "id": "91ff9fa3",
   "metadata": {},
   "source": [
    "## Jour 7 : Calcul differenciel"
   ]
  },
  {
   "cell_type": "markdown",
   "id": "fbf7c0d6",
   "metadata": {},
   "source": [
    "🎯 Objectifs du jour\n",
    "\n",
    "Introduire la notion de dérivée en Python avec Sympy.  \n",
    "\n",
    "Calculer des dérivées simples et multiples.  \n",
    "\n",
    "Appliquer la dérivation à des fonctions usuelles.  \n"
   ]
  },
  {
   "cell_type": "markdown",
   "id": "4855bd66",
   "metadata": {},
   "source": [
    "## 1. Definitions d'une fonction symbolique"
   ]
  },
  {
   "cell_type": "code",
   "execution_count": 11,
   "id": "d54bbf33",
   "metadata": {},
   "outputs": [],
   "source": [
    "import sympy as sp\n",
    "x = sp.symbols('x')\n",
    "\n",
    "f = x**3 - 5*x**2 + 6*x\n"
   ]
  },
  {
   "cell_type": "markdown",
   "id": "0c9ea2ac",
   "metadata": {},
   "source": [
    "## 2. Derivee d'une fonction"
   ]
  },
  {
   "cell_type": "code",
   "execution_count": 12,
   "id": "ddd39f1a",
   "metadata": {},
   "outputs": [
    {
     "name": "stdout",
     "output_type": "stream",
     "text": [
      "3*x**2 - 10*x + 6\n",
      "2*(3*x - 5)\n"
     ]
    }
   ],
   "source": [
    "f_prime = sp.diff(f, x)   # dérivée première\n",
    "f_second = sp.diff(f, x, 2) # dérivée seconde\n",
    "print(f_prime)\n",
    "print(f_second)"
   ]
  },
  {
   "cell_type": "code",
   "execution_count": 13,
   "id": "94a73407",
   "metadata": {},
   "outputs": [
    {
     "data": {
      "text/latex": [
       "$\\displaystyle -2$"
      ],
      "text/plain": [
       "-2"
      ]
     },
     "execution_count": 13,
     "metadata": {},
     "output_type": "execute_result"
    }
   ],
   "source": [
    "# Evaluer la derive en un point \n",
    "f_prime.subs(x, 2)  # f'(2)"
   ]
  },
  {
   "cell_type": "markdown",
   "id": "28661a38",
   "metadata": {},
   "source": [
    "## Jour 8 : Integration avec sympy"
   ]
  },
  {
   "cell_type": "markdown",
   "id": "6fa71bad",
   "metadata": {},
   "source": [
    "🎯 Objectifs du jour\n",
    "\n",
    "Découvrir le calcul intégral symbolique avec Sympy.  \n",
    "\n",
    "Calculer des primitives et des intégrales définies.  \n",
    "\n",
    "Faire le lien avec des applications concrètes en mathématiques.  \n",
    "\n",
    "Comparer avec des intégrales approchées (numerical integration).  "
   ]
  },
  {
   "cell_type": "markdown",
   "id": "7d5fe488",
   "metadata": {},
   "source": [
    "## 1. Primitive "
   ]
  },
  {
   "cell_type": "markdown",
   "id": "5d205d3d",
   "metadata": {},
   "source": [
    "$$\\int sin(x) \\text{d}x$$"
   ]
  },
  {
   "cell_type": "code",
   "execution_count": 16,
   "id": "85346757",
   "metadata": {},
   "outputs": [
    {
     "data": {
      "text/latex": [
       "$\\displaystyle - \\cos{\\left(x \\right)}$"
      ],
      "text/plain": [
       "-cos(x)"
      ]
     },
     "execution_count": 16,
     "metadata": {},
     "output_type": "execute_result"
    }
   ],
   "source": [
    "import sympy as sp\n",
    "x = sp.symbols('x')\n",
    "\n",
    "f = sp.sin(x)\n",
    "F = sp.integrate(f, x)\n",
    "F"
   ]
  },
  {
   "cell_type": "markdown",
   "id": "41969435",
   "metadata": {},
   "source": [
    "## 2. Integral sur un segment "
   ]
  },
  {
   "cell_type": "markdown",
   "id": "52b74a45",
   "metadata": {},
   "source": [
    "$$\\int_0^{\\pi} sin(x) \\text{d}x$$"
   ]
  },
  {
   "cell_type": "code",
   "execution_count": 17,
   "id": "51222c8c",
   "metadata": {},
   "outputs": [
    {
     "data": {
      "text/latex": [
       "$\\displaystyle 2$"
      ],
      "text/plain": [
       "2"
      ]
     },
     "execution_count": 17,
     "metadata": {},
     "output_type": "execute_result"
    }
   ],
   "source": [
    "sp.integrate(f, (x, 0, sp.pi))"
   ]
  },
  {
   "cell_type": "markdown",
   "id": "4a428826",
   "metadata": {},
   "source": [
    "$$\\int_{-\\infty}^{+\\infty} e^{-x^2} \\text{d}x$$"
   ]
  },
  {
   "cell_type": "code",
   "execution_count": 18,
   "id": "841bdd13",
   "metadata": {},
   "outputs": [
    {
     "data": {
      "text/latex": [
       "$\\displaystyle 1.77245385090552$"
      ],
      "text/plain": [
       "1.77245385090552"
      ]
     },
     "execution_count": 18,
     "metadata": {},
     "output_type": "execute_result"
    }
   ],
   "source": [
    "# Si les bornes sont infinie \n",
    "res = sp.integrate(sp.exp(-x**2), (x, -sp.oo, sp.oo))\n",
    "res.evalf()   "
   ]
  },
  {
   "cell_type": "markdown",
   "id": "66a9077f",
   "metadata": {},
   "source": [
    "## Jour 9 : Resolution d'equation differentielle"
   ]
  },
  {
   "cell_type": "code",
   "execution_count": 6,
   "id": "1126f1b7",
   "metadata": {},
   "outputs": [],
   "source": [
    "import sympy as sp\n",
    "t = sp.symbols('t')\n",
    "y = sp.Function('y')"
   ]
  },
  {
   "cell_type": "markdown",
   "id": "df77a23e",
   "metadata": {},
   "source": [
    "### Equations differentielle simple  \n",
    "$$y'(t)-y(t)=0$$"
   ]
  },
  {
   "cell_type": "code",
   "execution_count": null,
   "id": "7b2f8aa5",
   "metadata": {},
   "outputs": [
    {
     "data": {
      "text/latex": [
       "$\\displaystyle y{\\left(t \\right)} = C_{1} e^{t}$"
      ],
      "text/plain": [
       "Eq(y(t), C1*exp(t))"
      ]
     },
     "execution_count": 7,
     "metadata": {},
     "output_type": "execute_result"
    }
   ],
   "source": [
    "eq = sp.Eq(sp.diff(y(t), t) - y(t), 0)\n",
    "sol = sp.dsolve(eq)\n",
    "sol"
   ]
  },
  {
   "cell_type": "markdown",
   "id": "17f00970",
   "metadata": {},
   "source": [
    "### Deuxieme ordre \n",
    "$$y''(t)-y(t)=0$$"
   ]
  },
  {
   "cell_type": "code",
   "execution_count": 8,
   "id": "2161c5f6",
   "metadata": {},
   "outputs": [
    {
     "data": {
      "text/latex": [
       "$\\displaystyle y{\\left(t \\right)} = C_{1} e^{- t} + C_{2} e^{t}$"
      ],
      "text/plain": [
       "Eq(y(t), C1*exp(-t) + C2*exp(t))"
      ]
     },
     "execution_count": 8,
     "metadata": {},
     "output_type": "execute_result"
    }
   ],
   "source": [
    "eq2 = sp.Eq(sp.diff(y(t), t, 2) - y(t), 0)\n",
    "sol2 = sp.dsolve(eq2)\n",
    "sol2"
   ]
  },
  {
   "cell_type": "markdown",
   "id": "cf8faa6e",
   "metadata": {},
   "source": [
    "### Avec conditions initialle  \n",
    "$$y'(t)+y(t)=0, y(0)=2$$"
   ]
  },
  {
   "cell_type": "code",
   "execution_count": 9,
   "id": "7e8349c9",
   "metadata": {},
   "outputs": [
    {
     "data": {
      "text/latex": [
       "$\\displaystyle y{\\left(t \\right)} = 2 e^{t}$"
      ],
      "text/plain": [
       "Eq(y(t), 2*exp(t))"
      ]
     },
     "execution_count": 9,
     "metadata": {},
     "output_type": "execute_result"
    }
   ],
   "source": [
    "eq = sp.Eq(sp.diff(y(t), t) - y(t), 0)\n",
    "sol_init = sp.dsolve(eq, ics={y(0): 2})\n",
    "sol_init\n"
   ]
  },
  {
   "cell_type": "code",
   "execution_count": null,
   "id": "df5676b7",
   "metadata": {},
   "outputs": [],
   "source": []
  },
  {
   "cell_type": "code",
   "execution_count": null,
   "id": "3c2f9b7f",
   "metadata": {},
   "outputs": [],
   "source": []
  },
  {
   "cell_type": "markdown",
   "id": "7d1cb9a0",
   "metadata": {},
   "source": [
    "## Jour 10 : Recaputilatif et mini projet"
   ]
  },
  {
   "cell_type": "markdown",
   "id": "6ae22a10",
   "metadata": {},
   "source": [
    "### Mini-projet proposé : Étude d’une équation différentielle appliquée  \n",
    "**Exemple : croissance logistique**\n",
    "$$y'(t)=ry(t)\\left(1-\\frac{y(t)}{K}\\right), y(0)=1$$\n",
    "* $r$ : représente le taux de croissance maximal par habitant dans des conditions idéales.\n",
    "* $K$ : le maximum de population que l'environnement peut supporter de manière durable.\n",
    "* $y$ : La taille actuelle de la population. "
   ]
  },
  {
   "cell_type": "code",
   "execution_count": 10,
   "id": "e23694d0",
   "metadata": {},
   "outputs": [
    {
     "data": {
      "text/latex": [
       "$\\displaystyle y{\\left(t \\right)} = - \\frac{K e^{r t}}{\\left(-1 - \\frac{e^{r t}}{K - 1}\\right) \\left(K - 1\\right)}$"
      ],
      "text/plain": [
       "Eq(y(t), -K*exp(r*t)/((-1 - exp(r*t)/(K - 1))*(K - 1)))"
      ]
     },
     "execution_count": 10,
     "metadata": {},
     "output_type": "execute_result"
    }
   ],
   "source": [
    "import sympy as sp\n",
    "t = sp.symbols('t')\n",
    "y = sp.Function('y')\n",
    "\n",
    "r, K = sp.symbols('r K')\n",
    "eq = sp.Eq(sp.diff(y(t), t), r*y(t)*(1 - y(t)/K))\n",
    "sol = sp.dsolve(eq, ics={y(0): 1})\n",
    "sol\n"
   ]
  },
  {
   "cell_type": "markdown",
   "id": "f41b875d",
   "metadata": {},
   "source": [
    "### Simulation numérique avec Numpy/Matplotlib\n"
   ]
  },
  {
   "cell_type": "code",
   "execution_count": 11,
   "id": "3eaabbfc",
   "metadata": {},
   "outputs": [
    {
     "data": {
      "image/png": "[encoded data removed]",
      "text/plain": [
       "<Figure size 640x480 with 1 Axes>"
      ]
     },
     "metadata": {},
     "output_type": "display_data"
    }
   ],
   "source": [
    "import numpy as np\n",
    "import matplotlib.pyplot as plt\n",
    "\n",
    "def logistic(y0, r, K, T):\n",
    "    t_vals = np.linspace(0, T, 200)\n",
    "    y_vals = K / (1 + ((K - y0)/y0) * np.exp(-r * t_vals))\n",
    "    return t_vals, y_vals\n",
    "\n",
    "T, Y = logistic(y0=1, r=0.5, K=10, T=20)\n",
    "plt.plot(T, Y, label=\"Croissance logistique\")\n",
    "plt.legend()\n",
    "plt.show()\n"
   ]
  },
  {
   "cell_type": "code",
   "execution_count": null,
   "id": "057ef25e",
   "metadata": {},
   "outputs": [],
   "source": []
  },
  {
   "cell_type": "code",
   "execution_count": null,
   "id": "474a9d46",
   "metadata": {},
   "outputs": [],
   "source": []
  },
  {
   "cell_type": "markdown",
   "id": "a8380096",
   "metadata": {},
   "source": [
    "## Jours 11 : Ensemble de Mendelbord  \n",
    "En mathématiques, l'ensemble de Mandelbrot est une fractale définie comme l'ensemble des points c du plan complexe pour lesquels la suite de nombres complexes définie par récurrence par :\n",
    "$$Z_{n+1}=Z_{n}^2+c, Z_0 = 0$$\n"
   ]
  },
  {
   "cell_type": "code",
   "execution_count": 12,
   "id": "75ea4c85",
   "metadata": {},
   "outputs": [
    {
     "data": {
      "image/png": "[encoded data removed]",
      "text/plain": [
       "<Figure size 640x480 with 1 Axes>"
      ]
     },
     "metadata": {},
     "output_type": "display_data"
    }
   ],
   "source": [
    "import numpy as np\n",
    "import matplotlib.pyplot as plt\n",
    "\n",
    "# Ensemble de Mandelbrot\n",
    "def mandelbrot(h, w, max_iter=50):\n",
    "    x = np.linspace(-2, 1, w)\n",
    "    y = np.linspace(-1.5, 1.5, h)\n",
    "    C = x[np.newaxis, :] + 1j*y[:, np.newaxis]\n",
    "    Z = np.zeros_like(C)\n",
    "    div_time = np.zeros(C.shape, dtype=int)\n",
    "\n",
    "    for i in range(max_iter):\n",
    "        Z = Z**2 + C\n",
    "        diverge = np.abs(Z) > 2\n",
    "        div_now = diverge & (div_time==0)\n",
    "        div_time[div_now] = i\n",
    "        Z[diverge] = 2\n",
    "    return div_time\n",
    "\n",
    "plt.imshow(mandelbrot(400, 400), cmap=\"hot\")\n",
    "plt.axis(\"off\")\n",
    "plt.show()\n"
   ]
  },
  {
   "cell_type": "code",
   "execution_count": null,
   "id": "db886dc7",
   "metadata": {},
   "outputs": [],
   "source": []
  },
  {
   "cell_type": "code",
   "execution_count": null,
   "id": "d76e75b1",
   "metadata": {},
   "outputs": [],
   "source": []
  },
  {
   "cell_type": "code",
   "execution_count": null,
   "id": "49c2f06d",
   "metadata": {},
   "outputs": [],
   "source": []
  },
  {
   "cell_type": "code",
   "execution_count": null,
   "metadata": {},
   "outputs": [],
   "source": []
  },
  {
   "cell_type": "markdown",
   "id": "fdb93ced",
   "metadata": {},
   "source": [
    "## Jour 12 : Projectille  \n",
    "**Équations du mouvement sans frottement**\n",
    "$$x(t)=v_0 cos(\\theta) t,   y(t)=-\\frac{1}{2}g t + v_0 sint(\\theta) t$$"
   ]
  },
  {
   "cell_type": "code",
   "execution_count": 1,
   "id": "90428ea5",
   "metadata": {},
   "outputs": [
    {
     "data": {
      "text/plain": [
       "[0.0, 2.88615012729203]"
      ]
     },
     "execution_count": 1,
     "metadata": {},
     "output_type": "execute_result"
    }
   ],
   "source": [
    "import sympy as sp\n",
    "\n",
    "t = sp.symbols('t')\n",
    "v0, theta, g = 20, sp.pi/4, 9.8\n",
    "\n",
    "x = v0*sp.cos(theta)*t\n",
    "y = v0*sp.sin(theta)*t - (1/2)*g*t**2\n",
    "\n",
    "# Temps de vol = solution de y(t)=0\n",
    "T = sp.solve(sp.Eq(y, 0), t)\n",
    "T"
   ]
  },
  {
   "cell_type": "code",
   "execution_count": null,
   "id": "752cc39e",
   "metadata": {},
   "outputs": [],
   "source": []
  },
  {
   "cell_type": "code",
   "execution_count": null,
   "id": "f3ed13fd",
   "metadata": {},
   "outputs": [],
   "source": []
  },
  {
   "cell_type": "markdown",
   "id": "e74dfd38",
   "metadata": {},
   "source": [
    "## Jour 13 : Optimisation  \n",
    "**Maximiser l’aire d’un rectangle inscrit dans un cercle de rayon $R$**"
   ]
  },
  {
   "cell_type": "code",
   "execution_count": 2,
   "id": "b3d67cb1",
   "metadata": {},
   "outputs": [
    {
     "name": "stdout",
     "output_type": "stream",
     "text": [
      "Largeur optimale: 3.53553390593274\n",
      "Aire maximale: 25.0000000000000\n"
     ]
    }
   ],
   "source": [
    "import sympy as sp\n",
    "import matplotlib.pyplot as plt\n",
    "import numpy as np\n",
    "\n",
    "# Définition\n",
    "x = sp.symbols('x')\n",
    "R = 5\n",
    "f = 2*x*sp.sqrt(R**2 - x**2)  # aire du rectangle\n",
    "\n",
    "# Dérivée\n",
    "f_prime = sp.diff(f, x)\n",
    "solutions = sp.solve(f_prime, x)\n",
    "max_x = [s.evalf() for s in solutions if 0 < s < R][0]\n",
    "max_area = f.subs(x, max_x)\n",
    "\n",
    "print(\"Largeur optimale:\", max_x)\n",
    "print(\"Aire maximale:\", max_area)\n"
   ]
  },
  {
   "cell_type": "code",
   "execution_count": 3,
   "id": "a6c5f6b5",
   "metadata": {},
   "outputs": [
    {
     "data": {
      "image/png": "[encoded data removed]",
      "text/plain": [
       "<Figure size 640x480 with 1 Axes>"
      ]
     },
     "metadata": {},
     "output_type": "display_data"
    }
   ],
   "source": [
    "# Visualisation\n",
    "x_vals = np.linspace(0, R, 400)\n",
    "y_vals = [float(f.subs(x, val)) for val in x_vals]\n",
    "\n",
    "plt.plot(x_vals, y_vals)\n",
    "plt.axvline(max_x, color='r', linestyle='--', label='Max x')\n",
    "plt.axhline(float(max_area), color='g', linestyle='--', label='Max area')\n",
    "plt.legend()\n",
    "plt.show()\n"
   ]
  },
  {
   "cell_type": "markdown",
   "id": "c96522e7",
   "metadata": {},
   "source": [
    "## Jour 14 – Projet 4 : Probabilités & Simulation"
   ]
  },
  {
   "cell_type": "markdown",
   "id": "deb445d2",
   "metadata": {},
   "source": [
    "**Loi des grands nombres via pile ou face.**"
   ]
  },
  {
   "cell_type": "code",
   "execution_count": 4,
   "id": "ce170159",
   "metadata": {},
   "outputs": [
    {
     "data": {
      "image/png": "[encoded data removed]",
      "text/plain": [
       "<Figure size 640x480 with 1 Axes>"
      ]
     },
     "metadata": {},
     "output_type": "display_data"
    }
   ],
   "source": [
    "import numpy as np\n",
    "import matplotlib.pyplot as plt\n",
    "\n",
    "N = 10000\n",
    "lancers = np.random.choice([0,1], size=N)  # 0=pile, 1=face\n",
    "freq = np.cumsum(lancers==0)/np.arange(1, N+1)\n",
    "\n",
    "plt.plot(freq)\n",
    "plt.axhline(0.5, color='r', linestyle='--', label='Prob théorique')\n",
    "plt.xlabel('Nombre de lancers')\n",
    "plt.ylabel('Fréquence de pile')\n",
    "plt.legend()\n",
    "plt.show()\n"
   ]
  },
  {
   "cell_type": "code",
   "execution_count": null,
   "id": "7d49a6af",
   "metadata": {},
   "outputs": [],
   "source": []
  },
  {
   "cell_type": "code",
   "execution_count": null,
   "id": "84b41b8c",
   "metadata": {},
   "outputs": [],
   "source": []
  },
  {
   "cell_type": "markdown",
   "id": "f9dfd34c",
   "metadata": {},
   "source": [
    "### Jour 15 – Projet 5 : Projet final intégrateur  \n",
    "**Étude d’un modèle épidémiologique SIR.**"
   ]
  },
  {
   "cell_type": "code",
   "execution_count": 6,
   "id": "4b360564",
   "metadata": {},
   "outputs": [
    {
     "data": {
      "image/png": "[encoded data removed]",
      "text/plain": [
       "<Figure size 640x480 with 1 Axes>"
      ]
     },
     "metadata": {},
     "output_type": "display_data"
    }
   ],
   "source": [
    "import numpy as np\n",
    "import matplotlib.pyplot as plt\n",
    "\n",
    "# Paramètres\n",
    "beta = 0.3\n",
    "gamma = 0.1\n",
    "S0, I0, R0 = 990, 10, 0\n",
    "N_days = 160\n",
    "\n",
    "S, I, R = [S0], [I0], [R0]\n",
    "\n",
    "for _ in range(N_days):\n",
    "    S_new = S[-1] - beta*S[-1]*I[-1]/(S0+I0+R0)\n",
    "    I_new = I[-1] + beta*S[-1]*I[-1]/(S0+I0+R0) - gamma*I[-1]\n",
    "    R_new = R[-1] + gamma*I[-1]\n",
    "    S.append(S_new)\n",
    "    I.append(I_new)\n",
    "    R.append(R_new)\n",
    "\n",
    "plt.plot(S, label='S(t)')\n",
    "plt.plot(I, label='I(t)')\n",
    "plt.plot(R, label='R(t)')\n",
    "plt.xlabel('Jours')\n",
    "plt.ylabel('Population')\n",
    "plt.legend()\n",
    "plt.show()\n"
   ]
  },
  {
   "cell_type": "markdown",
   "id": "0d23b0c4",
   "metadata": {},
   "source": []
  }
 ],
 "metadata": {
  "kernelspec": {
   "display_name": "Python 3",
   "language": "python",
   "name": "python3"
  },
  "language_info": {
   "codemirror_mode": {
    "name": "ipython",
    "version": 3
   },
   "file_extension": ".py",
   "mimetype": "text/x-python",
   "name": "python",
   "nbconvert_exporter": "python",
   "pygments_lexer": "ipython3",
   "version": "3.12.10"
  }
 },
 "nbformat": 4,
 "nbformat_minor": 5
}
