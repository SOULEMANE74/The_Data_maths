{
 "cells": [
  {
   "cell_type": "markdown",
   "id": "2b37104a",
   "metadata": {},
   "source": [
    "## 10 jours pour faire les maths avec python !! "
   ]
  },
  {
   "cell_type": "markdown",
   "id": "255555ae",
   "metadata": {},
   "source": [
    "### Jours 1 : Rappel Express et outils "
   ]
  },
  {
   "cell_type": "markdown",
   "id": "4ba0c279",
   "metadata": {},
   "source": [
    "## Variables "
   ]
  },
  {
   "cell_type": "code",
   "execution_count": 13,
   "id": "30a90004",
   "metadata": {},
   "outputs": [
    {
     "name": "stdout",
     "output_type": "stream",
     "text": [
      "7.6\n"
     ]
    }
   ],
   "source": [
    "x = 6\n",
    "y = 1.6\n",
    "print(x+y)"
   ]
  },
  {
   "cell_type": "markdown",
   "id": "913acae7",
   "metadata": {},
   "source": [
    "## Fonctions  \n",
    "$$f(x)=x^2+x+1$$"
   ]
  },
  {
   "cell_type": "code",
   "execution_count": 14,
   "id": "aa47de51",
   "metadata": {},
   "outputs": [
    {
     "data": {
      "text/plain": [
       "111"
      ]
     },
     "execution_count": 14,
     "metadata": {},
     "output_type": "execute_result"
    }
   ],
   "source": [
    "def f(x):\n",
    "    return x**2+x+1\n",
    "\n",
    "f(10)"
   ]
  },
  {
   "cell_type": "markdown",
   "id": "80cc843f",
   "metadata": {},
   "source": [
    "## Maths  \n",
    "$$\\sqrt{\\pi}$$"
   ]
  },
  {
   "cell_type": "code",
   "execution_count": 15,
   "id": "f51595b8",
   "metadata": {},
   "outputs": [
    {
     "name": "stdout",
     "output_type": "stream",
     "text": [
      "1.4142135623730951\n",
      "3.141592653589793\n"
     ]
    }
   ],
   "source": [
    "import math\n",
    "print(math.sqrt(2))\n",
    "print(math.pi)"
   ]
  },
  {
   "cell_type": "code",
   "execution_count": null,
   "id": "af4c9aa1",
   "metadata": {},
   "outputs": [],
   "source": []
  }
 ],
 "metadata": {
  "kernelspec": {
   "display_name": "Python 3",
   "language": "python",
   "name": "python3"
  },
  "language_info": {
   "codemirror_mode": {
    "name": "ipython",
    "version": 3
   },
   "file_extension": ".py",
   "mimetype": "text/x-python",
   "name": "python",
   "nbconvert_exporter": "python",
   "pygments_lexer": "ipython3",
   "version": "3.12.10"
  }
 },
 "nbformat": 4,
 "nbformat_minor": 5
}
