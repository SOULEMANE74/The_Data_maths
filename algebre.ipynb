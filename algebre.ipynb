{
 "cells": [
  {
   "cell_type": "code",
   "execution_count": null,
   "id": "56c883ba",
   "metadata": {},
   "outputs": [
    {
     "name": "stdout",
     "output_type": "stream",
     "text": [
      "Déterminant de M : 1\n",
      "\n",
      "Comatrice de M :\n",
      "Matrix([[-1, 2, -2], [-1, 1, -1], [3, -2, 3]])\n",
      "\n",
      "Inverse de M :\n",
      "Matrix([[-1, -1, 3], [2, 1, -2], [-2, -1, 3]])\n"
     ]
    }
   ],
   "source": [
    "import numpy as np\n",
    "from sympy import Matrix\n",
    "#Définir la matrice M\n",
    "M = Matrix([\n",
    "    [1, 0, -1],\n",
    "    [-2, 3, 4],\n",
    "    [0, 1, 1]\n",
    "])\n",
    "# Déterminant\n",
    "det_M = M.det()\n",
    "# Comatrice\n",
    "comatrice_M = M.cofactor_matrix()\n",
    "# Inverse\n",
    "inverse_M = M.inv()\n",
    "# Affichage des resultats\n",
    "print(\"Déterminant de M :\", det_M)\n",
    "print(\"\\nComatrice de M :\")\n",
    "print(comatrice_M)\n",
    "print(\"\\nInverse de M :\")\n",
    "print(inverse_M)\n",
    "\n",
    "\n"
   ]
  },
  {
   "cell_type": "code",
   "execution_count": 7,
   "id": "31cbf4b9",
   "metadata": {},
   "outputs": [],
   "source": [
    "%matplotlib inline\n",
    "import matplotlib as plt\n",
    "import numpy as np"
   ]
  },
  {
   "cell_type": "code",
   "execution_count": null,
   "id": "259224ec",
   "metadata": {},
   "outputs": [],
   "source": []
  },
  {
   "cell_type": "code",
   "execution_count": null,
   "id": "4e6449a8",
   "metadata": {},
   "outputs": [],
   "source": []
  }
 ],
 "metadata": {
  "kernelspec": {
   "display_name": "Python 3",
   "language": "python",
   "name": "python3"
  },
  "language_info": {
   "codemirror_mode": {
    "name": "ipython",
    "version": 3
   },
   "file_extension": ".py",
   "mimetype": "text/x-python",
   "name": "python",
   "nbconvert_exporter": "python",
   "pygments_lexer": "ipython3",
   "version": "3.12.10"
  }
 },
 "nbformat": 4,
 "nbformat_minor": 5
}
