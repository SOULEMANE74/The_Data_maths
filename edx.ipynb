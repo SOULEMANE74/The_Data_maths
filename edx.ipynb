{
 "cells": [
  {
   "cell_type": "code",
   "execution_count": 2,
   "id": "bc3a6525",
   "metadata": {},
   "outputs": [],
   "source": [
    "import sympy as sp\n",
    "x = sp.symbols('x')\n",
    "f= (1/3)*x**3-x**2-3*x+10"
   ]
  },
  {
   "cell_type": "code",
   "execution_count": 4,
   "id": "f693d719",
   "metadata": {},
   "outputs": [
    {
     "name": "stdout",
     "output_type": "stream",
     "text": [
      "1.0*x**2 - 2*x - 3\n",
      "2.0*x - 2\n"
     ]
    }
   ],
   "source": [
    "f_prime = sp.diff(f,x)\n",
    "f_seconde = sp.diff(f,x,2)\n",
    "print(f_prime)\n",
    "print(f_seconde)"
   ]
  },
  {
   "cell_type": "code",
   "execution_count": 5,
   "id": "b20ffe02",
   "metadata": {},
   "outputs": [
    {
     "name": "stdout",
     "output_type": "stream",
     "text": [
      "-15.3333333333333\n",
      "3.33333333333333\n",
      "11.6666666666667\n",
      "1.00000000000000\n"
     ]
    }
   ],
   "source": [
    "print(f.subs(x,-4))\n",
    "print(f.subs(x,4))\n",
    "print(f.subs(x,-1))\n",
    "print(f.subs(x,3))"
   ]
  },
  {
   "cell_type": "code",
   "execution_count": null,
   "id": "fa802e17",
   "metadata": {},
   "outputs": [],
   "source": []
  }
 ],
 "metadata": {
  "kernelspec": {
   "display_name": "Python 3",
   "language": "python",
   "name": "python3"
  },
  "language_info": {
   "codemirror_mode": {
    "name": "ipython",
    "version": 3
   },
   "file_extension": ".py",
   "mimetype": "text/x-python",
   "name": "python",
   "nbconvert_exporter": "python",
   "pygments_lexer": "ipython3",
   "version": "3.12.10"
  }
 },
 "nbformat": 4,
 "nbformat_minor": 5
}
